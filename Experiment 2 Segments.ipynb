{
 "cells": [
  {
   "cell_type": "code",
   "execution_count": 1,
   "metadata": {
    "ExecuteTime": {
     "end_time": "2021-03-31T05:21:02.084420Z",
     "start_time": "2021-03-31T05:21:01.584439Z"
    }
   },
   "outputs": [],
   "source": [
    "from binarySegmentation import binarySegmentation\n",
    "\n",
    "import numpy as np\n",
    "\n",
    "import pandas as pd\n",
    "\n",
    "from sklearn import linear_model\n",
    "\n",
    "from sklearn import ensemble\n",
    "\n",
    "import seaborn as sns\n",
    "\n",
    "from joblib import dump\n",
    "\n",
    "from joblib import load"
   ]
  },
  {
   "cell_type": "code",
   "execution_count": 2,
   "metadata": {
    "ExecuteTime": {
     "end_time": "2021-03-31T05:21:02.086765Z",
     "start_time": "2021-03-31T05:21:02.085255Z"
    }
   },
   "outputs": [],
   "source": [
    "seeds = [100*i for i in range(0,100)]"
   ]
  },
  {
   "cell_type": "code",
   "execution_count": 3,
   "metadata": {
    "ExecuteTime": {
     "end_time": "2021-03-31T05:21:02.090891Z",
     "start_time": "2021-03-31T05:21:02.087437Z"
    }
   },
   "outputs": [],
   "source": [
    "ps = [100, 200, 300, 400, 500]"
   ]
  },
  {
   "cell_type": "code",
   "execution_count": 4,
   "metadata": {
    "ExecuteTime": {
     "end_time": "2021-03-31T05:21:05.156405Z",
     "start_time": "2021-03-31T05:21:05.151667Z"
    }
   },
   "outputs": [],
   "source": [
    "def experiment2segmentsLASSO(seed, covMatrixType, p):\n",
    "    np.random.seed(seed)\n",
    "    dimCovariates = p\n",
    "    means = [0 for i in range(dimCovariates)]\n",
    "    if covMatrixType == 'diagonal':\n",
    "        covMatrix = [[1 if i == j else 0 for i in range(dimCovariates)] for j in range(dimCovariates)]\n",
    "    elif covMatrixType == 'equi-correlation':\n",
    "        covMatrix = [[1 if i == j else 0.2 for i in range(dimCovariates)] for j in range(dimCovariates)]\n",
    "    elif covMatrixType == 'toeplitz':\n",
    "        covMatrix = [[0.8**abs(i-j) for i in range(dimCovariates)] for j in range(dimCovariates)]\n",
    "    else:\n",
    "        return 'Please, specify a covariance matrix.'\n",
    "    n = int(dimCovariates/2)\n",
    "    data = pd.DataFrame(  np.random.multivariate_normal(  mean=means\n",
    "                                                        , cov=covMatrix\n",
    "                                                        , size = n\n",
    "                          )\n",
    "                        , columns=['X'+str(i) for i in range(dimCovariates)]\n",
    "                       )\n",
    "\n",
    "    data['y'] =   [data.iloc[i,0] + data.iloc[i,1] for i in range(int(n/2))]\\\n",
    "                + [data.iloc[i,dimCovariates - 2] + data.iloc[i,dimCovariates - 1] for i in range(int(n/2), n)]\n",
    "    return binarySegmentation.binarySegmentation(  data\n",
    "                                                 , X = ['X'+str(i) for i in range(dimCovariates)]\n",
    "                                                 , y = 'y'\n",
    "                                                 , model = linear_model.Lasso\n",
    "                                                 , params = {'alpha':None, 'fit_intercept':False}\n",
    "                                                 , fraqMinObs = 0.25\n",
    "                                                 , maxSegments = 4\n",
    "                                                )"
   ]
  },
  {
   "cell_type": "code",
   "execution_count": 12,
   "metadata": {
    "ExecuteTime": {
     "end_time": "2021-03-31T12:09:19.836984Z",
     "start_time": "2021-03-31T12:09:19.831752Z"
    }
   },
   "outputs": [],
   "source": [
    "def experiment2segmentsRFR(seed, covMatrixType, p):\n",
    "    np.random.seed(seed)\n",
    "    dimCovariates = p\n",
    "    means = [0 for i in range(dimCovariates)]\n",
    "    if covMatrixType == 'diagonal':\n",
    "        covMatrix = [[1 if i == j else 0 for i in range(dimCovariates)] for j in range(dimCovariates)]\n",
    "    elif covMatrixType == 'equi-correlation':\n",
    "        covMatrix = [[1 if i == j else 0.2 for i in range(dimCovariates)] for j in range(dimCovariates)]\n",
    "    elif covMatrixType == 'toeplitz':\n",
    "        covMatrix = [[0.8**abs(i-j) for i in range(dimCovariates)] for j in range(dimCovariates)]\n",
    "    else:\n",
    "        return 'Please, specify a covariance matrix.'\n",
    "    n = int(dimCovariates/2)\n",
    "    data = pd.DataFrame(  np.random.multivariate_normal(  mean=means\n",
    "                                                        , cov=covMatrix\n",
    "                                                        , size = n\n",
    "                          )\n",
    "                        , columns=['X'+str(i) for i in range(dimCovariates)]\n",
    "                       )\n",
    "\n",
    "    data['y'] =   [data.iloc[i,0] + data.iloc[i,1] for i in range(int(n/2))]\\\n",
    "                + [data.iloc[i,dimCovariates - 2] + data.iloc[i,dimCovariates - 1] for i in range(int(n/2), n)]\n",
    "    return binarySegmentation.binarySegmentation(  data\n",
    "                                                 , X = ['X'+str(i) for i in range(dimCovariates)]\n",
    "                                                 , y = 'y'\n",
    "                                                 , model = ensemble.RandomForestRegressor\n",
    "                                                 , params = { 'param_grid': { 'bootstrap': [False],\n",
    "                                                                              'min_samples_leaf': [int(i*0.05*n) for i in range(1,5)],\n",
    "                                                                              'n_estimators': range(1,5)\n",
    "                                                                            },\n",
    "                                                              'cv':4,\n",
    "                                                              'n_jobs':16,\n",
    "                                                              'scoring':'neg_mean_squared_error',\n",
    "                                                              'refit':True\n",
    "                                                            }\n",
    "                                                 , fraqMinObs = 0.25\n",
    "                                                 , maxSegments = 4\n",
    "                                                 , crossValidation=True\n",
    "                                                )"
   ]
  },
  {
   "cell_type": "code",
   "execution_count": null,
   "metadata": {
    "ExecuteTime": {
     "start_time": "2021-03-31T05:21:01.210Z"
    }
   },
   "outputs": [],
   "source": [
    "experimentsLASSOdiagonal = [[p, [experiment2segmentsLASSO(seed*p, 'diagonal', p) for seed in seeds]] for p in ps]\n",
    "dump(experimentsLASSOdiagonal, filename='experimentsLASSOdiagonal2seg')\n",
    "\n",
    "experimentsLASSOequicorrelation = [[p, [experiment2segmentsLASSO(seed*p, 'equi-correlation', p) for seed in seeds]] for p in ps]\n",
    "dump(experimentsLASSOequicorrelation, filename='experimentsLASSOequicorrelation2seg')\n",
    "\n",
    "experimentsLASSOtoeplitz = [[p, [experiment2segmentsLASSO(seed*p, 'toeplitz', p) for seed in seeds]] for p in ps]\n",
    "dump(experimentsLASSOtoeplitz, filename='experimentsLASSOtoeplitz2seg')"
   ]
  },
  {
   "cell_type": "code",
   "execution_count": null,
   "metadata": {
    "ExecuteTime": {
     "start_time": "2021-03-31T12:09:28.984Z"
    }
   },
   "outputs": [],
   "source": [
    "experimentsRFRdiagonal = [[p, [experiment2segmentsRFR(seed*p, 'diagonal', p) for seed in seeds]] for p in ps]\n",
    "dump(experimentsRFRdiagonal, filename='experimentsRFRdiagonal2seg')\n",
    "\n",
    "experimentsRFRequicorrelation = [[p, [experiment2segmentsRFR(seed*p, 'equi-correlation', p) for seed in seeds]] for p in ps]\n",
    "dump(experimentsRFRequicorrelation, filename='experimentsRFRequicorrelation2seg')\n",
    "\n",
    "experimentsRFRtoeplitz = [[p, [experiment2segmentsRFR(seed*p, 'toeplitz', p) for seed in seeds]] for p in ps]\n",
    "dump(experimentsRFRtoeplitz, filename='experimentsRFRtoeplitz2seg')"
   ]
  },
  {
   "cell_type": "code",
   "execution_count": null,
   "metadata": {},
   "outputs": [],
   "source": []
  }
 ],
 "metadata": {
  "kernelspec": {
   "display_name": "Python 3",
   "language": "python",
   "name": "python3"
  },
  "language_info": {
   "codemirror_mode": {
    "name": "ipython",
    "version": 3
   },
   "file_extension": ".py",
   "mimetype": "text/x-python",
   "name": "python",
   "nbconvert_exporter": "python",
   "pygments_lexer": "ipython3",
   "version": "3.7.3"
  }
 },
 "nbformat": 4,
 "nbformat_minor": 4
}
